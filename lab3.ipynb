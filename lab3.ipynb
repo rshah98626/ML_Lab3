{
 "cells": [
  {
   "cell_type": "markdown",
   "metadata": {},
   "source": [
    "# Lab 3: Bayes Classifier and Boosting"
   ]
  },
  {
   "cell_type": "markdown",
   "metadata": {},
   "source": [
    "## Jupyter notebooks\n",
    "\n",
    "In this lab, you can use Jupyter <https://jupyter.org/> to get a nice layout of your code and plots in one document. However, you may also use Python as usual, without Jupyter.\n",
    "\n",
    "If you have Python and pip, you can install Jupyter with `sudo pip install jupyter`. Otherwise you can follow the instruction on <http://jupyter.readthedocs.org/en/latest/install.html>.\n",
    "\n",
    "And that is everything you need! Now use a terminal to go into the folder with the provided lab files. Then run `jupyter notebook` to start a session in that folder. Click `lab3.ipynb` in the browser window that appeared to start this very notebook. You should click on the cells in order and either press `ctrl+enter` or `run cell` in the toolbar above to evaluate all the expressions.\n",
    "\n",
    "Be sure to put `%matplotlib inline` at the top of every code cell where you call plotting functions to get the resulting plots inside the document."
   ]
  },
  {
   "cell_type": "markdown",
   "metadata": {},
   "source": [
    "## Import the libraries\n",
    "\n",
    "In Jupyter, select the cell below and press `ctrl + enter` to import the needed libraries.\n",
    "Check out `labfuns.py` if you are interested in the details."
   ]
  },
  {
   "cell_type": "code",
   "execution_count": 3,
   "metadata": {},
   "outputs": [],
   "source": [
    "import numpy as np\n",
    "from scipy import misc\n",
    "from imp import reload\n",
    "from labfuns import *\n",
    "import random"
   ]
  },
  {
   "cell_type": "markdown",
   "metadata": {},
   "source": [
    "## Bayes classifier functions to implement\n",
    "\n",
    "The lab descriptions state what each function should do."
   ]
  },
  {
   "cell_type": "code",
   "execution_count": 4,
   "metadata": {},
   "outputs": [],
   "source": [
    "# NOTE: you do not need to handle the W argument for this part!\n",
    "# in: labels - N vector of class labels\n",
    "# out: prior - C x 1 vector of class priors\n",
    "def computePrior(labels, W=None):\n",
    "    Npts = labels.shape[0]\n",
    "    if W is None:\n",
    "        W = np.ones((Npts,1))/Npts\n",
    "    else:\n",
    "        assert(W.shape[0] == Npts)\n",
    "    classes, counts = np.unique(labels, return_counts=True)\n",
    "    Nclasses = np.size(classes)\n",
    "\n",
    "    prior = (counts / Npts).reshape((Nclasses, 1))\n",
    "    \n",
    "    return prior\n",
    "\n",
    "# NOTE: you do not need to handle the W argument for this part!\n",
    "# in:      X - N x d matrix of N data points\n",
    "#     labels - N vector of class labels\n",
    "# out:    mu - C x d matrix of class means (mu[i] - class i mean)\n",
    "#      sigma - C x d x d matrix of class covariances (sigma[i] - class i sigma)\n",
    "def mlParams(X, labels, W=None):\n",
    "    assert(X.shape[0]==labels.shape[0])\n",
    "    Npts,Ndims = np.shape(X)\n",
    "    classes = np.unique(labels)\n",
    "    Nclasses = np.size(classes)\n",
    "\n",
    "    if W is None:\n",
    "        W = np.ones((Npts,1))/float(Npts)\n",
    "\n",
    "    mu = np.zeros((Nclasses,Ndims))\n",
    "    sigma = np.zeros((Nclasses,Ndims,Ndims))\n",
    "\n",
    "    # Compute mu & sigma\n",
    "    for jdx, cl in enumerate(classes):\n",
    "        # find indexes of datapoints in class and compute average\n",
    "        class_idx = np.where(cl == labels)[0]\n",
    "        class_pts = X[class_idx, :]\n",
    "        class_w = W[class_idx, :]\n",
    "        # mu[jdx, :] = np.mean(class_pts, axis=0)\n",
    "        # sigma[jdx, :, :] = np.diag( np.mean(np.square(class_pts - mu[jdx, :]), axis=0) )\n",
    "        mu[jdx, :] = np.sum(class_pts * class_w, axis=0) / np.sum(class_w)\n",
    "        sigma[jdx, :, :] = np.diag(np.sum(np.square(class_pts - mu[jdx, :]) * class_w, axis=0) \n",
    "                                   / np.sum(class_w))\n",
    "            \n",
    "    return mu, sigma\n",
    "\n",
    "# in:      X - N x d matrix of M data points\n",
    "#      prior - C x 1 matrix of class priors\n",
    "#         mu - C x d matrix of class means (mu[i] - class i mean)\n",
    "#      sigma - C x d x d matrix of class covariances (sigma[i] - class i sigma)\n",
    "# out:     h - N vector of class predictions for test points\n",
    "def classifyBayes(X, prior, mu, sigma):\n",
    "    Npts = X.shape[0]\n",
    "    Nclasses,Ndims = np.shape(mu)\n",
    "    logProb = np.zeros((Nclasses, Npts))\n",
    "\n",
    "    # Calculated using discriminant function\n",
    "    for jdx in range(Nclasses):\n",
    "        a = (X - mu[jdx, :])\n",
    "        class_row = -0.5 * ( a @ np.diagflat(1.0 / (sigma[jdx, :, :].diagonal())) @ np.transpose(a) ).diagonal()\n",
    "        logProb[jdx, :] = class_row + (np.log(prior[jdx, :]) - 0.5 * np.log(np.linalg.det(sigma[jdx, :, :])))\n",
    "    \n",
    "    # one possible way of finding max a-posteriori once\n",
    "    # you have computed the log posterior\n",
    "    h = np.argmax(logProb,axis=0)\n",
    "    return h"
   ]
  },
  {
   "cell_type": "markdown",
   "metadata": {},
   "source": [
    "The implemented functions can now be summarized into the `BayesClassifier` class, which we will use later to test the classifier, no need to add anything else here:"
   ]
  },
  {
   "cell_type": "code",
   "execution_count": 5,
   "metadata": {},
   "outputs": [],
   "source": [
    "# NOTE: no need to touch this\n",
    "class BayesClassifier(object):\n",
    "    def __init__(self):\n",
    "        self.trained = False\n",
    "\n",
    "    def trainClassifier(self, X, labels, W=None):\n",
    "        rtn = BayesClassifier()\n",
    "        rtn.prior = computePrior(labels, W)\n",
    "        rtn.mu, rtn.sigma = mlParams(X, labels, W)\n",
    "        rtn.trained = True\n",
    "        return rtn\n",
    "\n",
    "    def classify(self, X):\n",
    "        return classifyBayes(X, self.prior, self.mu, self.sigma)"
   ]
  },
  {
   "cell_type": "markdown",
   "metadata": {},
   "source": [
    "## Test the Maximum Likelihood estimates\n",
    "\n",
    "Call `genBlobs` and `plotGaussian` to verify your estimates."
   ]
  },
  {
   "cell_type": "code",
   "execution_count": 6,
   "metadata": {},
   "outputs": [
    {
     "data": {
      "image/png": "[encoded data removed]",
      "text/plain": [
       "<Figure size 432x288 with 1 Axes>"
      ]
     },
     "metadata": {
      "needs_background": "light"
     },
     "output_type": "display_data"
    }
   ],
   "source": [
    "%matplotlib inline\n",
    "\n",
    "X, labels = genBlobs(centers=5)\n",
    "computePrior(labels)\n",
    "mu, sigma = mlParams(X,labels)\n",
    "plotGaussian(X,labels,mu,sigma)"
   ]
  },
  {
   "cell_type": "markdown",
   "metadata": {},
   "source": [
    "Call the `testClassifier` and `plotBoundary` functions for this part."
   ]
  },
  {
   "cell_type": "code",
   "execution_count": 7,
   "metadata": {},
   "outputs": [
    {
     "name": "stdout",
     "output_type": "stream",
     "text": [
      "Trial: 0 Accuracy 84.4\n",
      "Trial: 10 Accuracy 95.6\n",
      "Trial: 20 Accuracy 93.3\n",
      "Trial: 30 Accuracy 86.7\n",
      "Trial: 40 Accuracy 88.9\n",
      "Trial: 50 Accuracy 91.1\n",
      "Trial: 60 Accuracy 86.7\n",
      "Trial: 70 Accuracy 91.1\n",
      "Trial: 80 Accuracy 86.7\n",
      "Trial: 90 Accuracy 91.1\n",
      "Final mean classification accuracy  89 with standard deviation 4.16\n"
     ]
    }
   ],
   "source": [
    "testClassifier(BayesClassifier(), dataset='iris', split=0.7)"
   ]
  },
  {
   "cell_type": "code",
   "execution_count": 8,
   "metadata": {},
   "outputs": [
    {
     "name": "stdout",
     "output_type": "stream",
     "text": [
      "Trial: 0 Accuracy 61\n",
      "Trial: 10 Accuracy 66.2\n",
      "Trial: 20 Accuracy 74\n",
      "Trial: 30 Accuracy 66.9\n",
      "Trial: 40 Accuracy 59.7\n",
      "Trial: 50 Accuracy 64.3\n",
      "Trial: 60 Accuracy 66.9\n",
      "Trial: 70 Accuracy 63.6\n",
      "Trial: 80 Accuracy 62.3\n",
      "Trial: 90 Accuracy 70.8\n",
      "Final mean classification accuracy  64.7 with standard deviation 4.03\n"
     ]
    }
   ],
   "source": [
    "testClassifier(BayesClassifier(), dataset='vowel', split=0.7)"
   ]
  },
  {
   "cell_type": "code",
   "execution_count": 9,
   "metadata": {},
   "outputs": [
    {
     "data": {
      "image/png": "[encoded data removed]",
      "text/plain": [
       "<Figure size 432x288 with 1 Axes>"
      ]
     },
     "metadata": {
      "needs_background": "light"
     },
     "output_type": "display_data"
    }
   ],
   "source": [
    "%matplotlib inline\n",
    "plotBoundary(BayesClassifier(), dataset='iris',split=0.7)"
   ]
  },
  {
   "cell_type": "markdown",
   "metadata": {},
   "source": [
    "## Boosting functions to implement\n",
    "\n",
    "The lab descriptions state what each function should do."
   ]
  },
  {
   "cell_type": "code",
   "execution_count": 157,
   "metadata": {},
   "outputs": [],
   "source": [
    "# in: base_classifier - a classifier of the type that we will boost, e.g. BayesClassifier\n",
    "#                   X - N x d matrix of N data points\n",
    "#              labels - N vector of class labels\n",
    "#                   T - number of boosting iterations\n",
    "# out:    classifiers - (maximum) length T Python list of trained classifiers\n",
    "#              alphas - (maximum) length T Python list of vote weights\n",
    "def trainBoost(base_classifier, X, labels, T=10):\n",
    "    # these will come in handy later on\n",
    "    Npts,Ndims = np.shape(X)\n",
    "\n",
    "    classifiers = [] # append new classifiers to this list\n",
    "    alphas = [] # append the vote weight of the classifiers to this list\n",
    "\n",
    "    # The weights for the first iteration\n",
    "    wCur = np.ones((Npts,1))/float(Npts)\n",
    "\n",
    "    for i_iter in range(0, T):\n",
    "        # a new classifier can be trained like this, given the current weights\n",
    "        classifiers.append(base_classifier.trainClassifier(X, labels, wCur))\n",
    "\n",
    "        # do classification for each point\n",
    "        vote = classifiers[-1].classify(X)\n",
    "\n",
    "        # TODO: Fill in the rest, construct the alphas etc.        \n",
    "        # ==========================\n",
    "        delta = np.where(vote == labels, 1, 0).reshape(-1,1)\n",
    "        \n",
    "        epsilon = np.asscalar(np.transpose(wCur) @ (1 - delta))\n",
    "        alpha_val = (np.log(1 - epsilon) - np.log(epsilon)) / 2.0\n",
    "        alpha = np.exp(np.where(vote == labels, -1, 1).reshape(1,-1) * alpha_val)\n",
    "        \n",
    "        wCur = np.diag(wCur @ alpha).reshape(-1, 1)\n",
    "        wCur = np.array(wCur).copy()\n",
    "        \n",
    "        # wCur *= np.exp(alpha)\n",
    "        #Normalize:\n",
    "        wCur /= np.sum(wCur)\n",
    "        \n",
    "        alphas.append(alpha_val)\n",
    "        # alphas.append(alpha) # you will need to append the new alpha\n",
    "        # ==========================\n",
    "        \n",
    "    return classifiers, alphas\n",
    "\n",
    "# in:       X - N x d matrix of N data points\n",
    "# classifiers - (maximum) length T Python list of trained classifiers as above\n",
    "#      alphas - (maximum) length T Python list of vote weights\n",
    "#    Nclasses - the number of different classes\n",
    "# out:  yPred - N vector of class predictions for test points\n",
    "def classifyBoost(X, classifiers, alphas, Nclasses):\n",
    "    Npts = X.shape[0]\n",
    "    Ncomps = len(classifiers)\n",
    "\n",
    "    # if we only have one classifier, we may just classify directly\n",
    "    if Ncomps == 1:\n",
    "        return classifiers[0].classify(X)\n",
    "    elsef\n",
    "        votes = np.zeros((Npts,Nclasses))\n",
    "\n",
    "        # TODO: implement classificiation when we have trained several classifiers!\n",
    "        # here we can do it by filling in the votes vector with weighted votes\n",
    "        # ==========================\n",
    "        for i in range(classifiers):\n",
    "            vote = classifiers[i].classify(X)\n",
    "        \n",
    "        \n",
    "        \n",
    "        # ==========================\n",
    "\n",
    "        # one way to compute yPred after accumulating the votes\n",
    "        return np.argmax(votes,axis=1)"
   ]
  },
  {
   "cell_type": "markdown",
   "metadata": {},
   "source": [
    "The implemented functions can now be summarized another classifer, the `BoostClassifier` class. This class enables boosting different types of classifiers by initializing it with the `base_classifier` argument. No need to add anything here."
   ]
  },
  {
   "cell_type": "code",
   "execution_count": 11,
   "metadata": {},
   "outputs": [],
   "source": [
    "# NOTE: no need to touch this\n",
    "class BoostClassifier(object):\n",
    "    def __init__(self, base_classifier, T=10):\n",
    "        self.base_classifier = base_classifier\n",
    "        self.T = T\n",
    "        self.trained = False\n",
    "\n",
    "    def trainClassifier(self, X, labels):\n",
    "        rtn = BoostClassifier(self.base_classifier, self.T)\n",
    "        rtn.nbr_classes = np.size(np.unique(labels))\n",
    "        rtn.classifiers, rtn.alphas = trainBoost(self.base_classifier, X, labels, self.T)\n",
    "        rtn.trained = True\n",
    "        return rtn\n",
    "\n",
    "    def classify(self, X):\n",
    "        return classifyBoost(X, self.classifiers, self.alphas, self.nbr_classes)"
   ]
  },
  {
   "cell_type": "markdown",
   "metadata": {},
   "source": [
    "## Run some experiments\n",
    "\n",
    "Call the `testClassifier` and `plotBoundary` functions for this part."
   ]
  },
  {
   "cell_type": "code",
   "execution_count": 158,
   "metadata": {},
   "outputs": [
    {
     "name": "stdout",
     "output_type": "stream",
     "text": [
      "Delta share: 0.9142857142857143\n",
      "Eps:  0.08571428571428572\n",
      "Alpha: [[0.30618622 0.30618622 0.30618622 0.30618622 0.30618622 0.30618622\n",
      "  0.30618622 0.30618622 0.30618622 0.30618622 0.30618622 0.30618622\n",
      "  0.30618622 0.30618622 0.30618622 0.30618622 0.30618622 0.30618622\n",
      "  0.30618622 0.30618622 0.30618622 0.30618622 0.30618622 0.30618622\n",
      "  0.30618622 0.30618622 0.30618622 0.30618622 0.30618622 0.30618622\n",
      "  0.30618622 0.30618622 0.30618622 0.30618622 0.30618622 3.26598632\n",
      "  0.30618622 0.30618622 0.30618622 0.30618622 0.30618622 0.30618622\n",
      "  0.30618622 0.30618622 0.30618622 0.30618622 0.30618622 0.30618622\n",
      "  0.30618622 0.30618622 0.30618622 0.30618622 0.30618622 0.30618622\n",
      "  0.30618622 3.26598632 0.30618622 0.30618622 0.30618622 0.30618622\n",
      "  0.30618622 0.30618622 0.30618622 0.30618622 0.30618622 0.30618622\n",
      "  0.30618622 0.30618622 0.30618622 3.26598632 0.30618622 0.30618622\n",
      "  3.26598632 0.30618622 0.30618622 0.30618622 0.30618622 0.30618622\n",
      "  3.26598632 3.26598632 0.30618622 0.30618622 0.30618622 0.30618622\n",
      "  3.26598632 3.26598632 0.30618622 0.30618622 0.30618622 0.30618622\n",
      "  0.30618622 0.30618622 0.30618622 3.26598632 0.30618622 0.30618622\n",
      "  0.30618622 0.30618622 0.30618622 0.30618622 0.30618622 0.30618622\n",
      "  0.30618622 0.30618622 0.30618622]]\n",
      "Sum wCur: 0.9999999999999999\n",
      "Delta share: 0.9428571428571428\n",
      "Eps:  0.18229166666666669\n",
      "Alpha: [[0.47215457 0.47215457 0.47215457 0.47215457 0.47215457 0.47215457\n",
      "  0.47215457 0.47215457 0.47215457 0.47215457 0.47215457 0.47215457\n",
      "  0.47215457 0.47215457 0.47215457 0.47215457 0.47215457 0.47215457\n",
      "  0.47215457 0.47215457 0.47215457 0.47215457 0.47215457 0.47215457\n",
      "  0.47215457 0.47215457 0.47215457 0.47215457 0.47215457 0.47215457\n",
      "  0.47215457 0.47215457 0.47215457 0.47215457 0.47215457 0.47215457\n",
      "  0.47215457 0.47215457 0.47215457 0.47215457 0.47215457 0.47215457\n",
      "  0.47215457 2.11795049 0.47215457 0.47215457 0.47215457 0.47215457\n",
      "  0.47215457 0.47215457 0.47215457 0.47215457 2.11795049 0.47215457\n",
      "  0.47215457 0.47215457 0.47215457 0.47215457 0.47215457 0.47215457\n",
      "  0.47215457 0.47215457 2.11795049 0.47215457 0.47215457 0.47215457\n",
      "  0.47215457 0.47215457 0.47215457 0.47215457 0.47215457 0.47215457\n",
      "  2.11795049 0.47215457 0.47215457 0.47215457 0.47215457 0.47215457\n",
      "  0.47215457 2.11795049 0.47215457 0.47215457 0.47215457 0.47215457\n",
      "  0.47215457 2.11795049 0.47215457 0.47215457 0.47215457 0.47215457\n",
      "  0.47215457 0.47215457 0.47215457 0.47215457 0.47215457 0.47215457\n",
      "  0.47215457 0.47215457 0.47215457 0.47215457 0.47215457 0.47215457\n",
      "  0.47215457 0.47215457 0.47215457]]\n",
      "Sum wCur: 0.9999999999999999\n",
      "Delta share: 0.8\n",
      "Eps:  0.18143767060964514\n",
      "Alpha: [[0.47080152 0.47080152 0.47080152 0.47080152 0.47080152 0.47080152\n",
      "  0.47080152 0.47080152 0.47080152 0.47080152 0.47080152 0.47080152\n",
      "  0.47080152 0.47080152 0.47080152 0.47080152 0.47080152 0.47080152\n",
      "  0.47080152 0.47080152 0.47080152 0.47080152 0.47080152 0.47080152\n",
      "  0.47080152 0.47080152 0.47080152 0.47080152 0.47080152 0.47080152\n",
      "  0.47080152 0.47080152 0.47080152 0.47080152 0.47080152 0.47080152\n",
      "  0.47080152 2.12403734 0.47080152 2.12403734 2.12403734 0.47080152\n",
      "  0.47080152 2.12403734 2.12403734 0.47080152 0.47080152 0.47080152\n",
      "  0.47080152 0.47080152 0.47080152 0.47080152 2.12403734 0.47080152\n",
      "  0.47080152 2.12403734 0.47080152 0.47080152 0.47080152 2.12403734\n",
      "  0.47080152 2.12403734 0.47080152 0.47080152 0.47080152 0.47080152\n",
      "  0.47080152 0.47080152 0.47080152 2.12403734 2.12403734 0.47080152\n",
      "  0.47080152 0.47080152 0.47080152 2.12403734 0.47080152 2.12403734\n",
      "  0.47080152 0.47080152 0.47080152 0.47080152 2.12403734 0.47080152\n",
      "  2.12403734 0.47080152 0.47080152 2.12403734 0.47080152 0.47080152\n",
      "  0.47080152 0.47080152 0.47080152 0.47080152 0.47080152 0.47080152\n",
      "  2.12403734 2.12403734 2.12403734 0.47080152 0.47080152 2.12403734\n",
      "  0.47080152 2.12403734 0.47080152]]\n",
      "Sum wCur: 1.0\n",
      "Delta share: 0.7619047619047619\n",
      "Eps:  0.32881280569141835\n",
      "Alpha: [[0.69992665 0.69992665 0.69992665 0.69992665 0.69992665 0.69992665\n",
      "  0.69992665 0.69992665 0.69992665 0.69992665 0.69992665 0.69992665\n",
      "  0.69992665 0.69992665 0.69992665 0.69992665 0.69992665 0.69992665\n",
      "  0.69992665 0.69992665 0.69992665 0.69992665 0.69992665 0.69992665\n",
      "  0.69992665 0.69992665 0.69992665 0.69992665 0.69992665 0.69992665\n",
      "  0.69992665 0.69992665 0.69992665 0.69992665 0.69992665 0.69992665\n",
      "  1.42872114 0.69992665 0.69992665 0.69992665 0.69992665 1.42872114\n",
      "  0.69992665 0.69992665 0.69992665 0.69992665 1.42872114 0.69992665\n",
      "  1.42872114 1.42872114 1.42872114 0.69992665 0.69992665 1.42872114\n",
      "  1.42872114 0.69992665 1.42872114 0.69992665 0.69992665 0.69992665\n",
      "  0.69992665 0.69992665 1.42872114 0.69992665 1.42872114 0.69992665\n",
      "  1.42872114 1.42872114 1.42872114 0.69992665 0.69992665 0.69992665\n",
      "  1.42872114 1.42872114 0.69992665 0.69992665 0.69992665 0.69992665\n",
      "  0.69992665 1.42872114 0.69992665 1.42872114 0.69992665 1.42872114\n",
      "  0.69992665 1.42872114 1.42872114 0.69992665 0.69992665 0.69992665\n",
      "  1.42872114 1.42872114 0.69992665 0.69992665 0.69992665 1.42872114\n",
      "  0.69992665 0.69992665 0.69992665 0.69992665 0.69992665 0.69992665\n",
      "  1.42872114 0.69992665 0.69992665]]\n",
      "Sum wCur: 1.0\n",
      "Delta share: 0.9428571428571428\n",
      "Eps:  0.49653475753453424\n",
      "Alpha: [[0.99309337 0.99309337 0.99309337 0.99309337 0.99309337 0.99309337\n",
      "  0.99309337 0.99309337 0.99309337 0.99309337 0.99309337 0.99309337\n",
      "  0.99309337 0.99309337 0.99309337 0.99309337 0.99309337 0.99309337\n",
      "  0.99309337 0.99309337 0.99309337 0.99309337 0.99309337 0.99309337\n",
      "  0.99309337 0.99309337 0.99309337 0.99309337 0.99309337 0.99309337\n",
      "  0.99309337 0.99309337 0.99309337 0.99309337 0.99309337 0.99309337\n",
      "  0.99309337 0.99309337 0.99309337 0.99309337 0.99309337 0.99309337\n",
      "  0.99309337 1.00695467 0.99309337 0.99309337 0.99309337 0.99309337\n",
      "  0.99309337 0.99309337 0.99309337 0.99309337 1.00695467 0.99309337\n",
      "  0.99309337 0.99309337 0.99309337 0.99309337 0.99309337 0.99309337\n",
      "  0.99309337 0.99309337 1.00695467 0.99309337 0.99309337 0.99309337\n",
      "  0.99309337 0.99309337 0.99309337 0.99309337 0.99309337 0.99309337\n",
      "  1.00695467 0.99309337 0.99309337 0.99309337 0.99309337 0.99309337\n",
      "  0.99309337 1.00695467 0.99309337 0.99309337 0.99309337 0.99309337\n",
      "  0.99309337 1.00695467 0.99309337 0.99309337 0.99309337 0.99309337\n",
      "  0.99309337 0.99309337 0.99309337 0.99309337 0.99309337 0.99309337\n",
      "  0.99309337 0.99309337 0.99309337 0.99309337 0.99309337 0.99309337\n",
      "  0.99309337 0.99309337 0.99309337]]\n",
      "Sum wCur: 1.0\n",
      "Delta share: 0.9523809523809523\n",
      "Eps:  0.4866382961692034\n",
      "Alpha: [[0.97362431 0.97362431 0.97362431 0.97362431 0.97362431 0.97362431\n",
      "  0.97362431 0.97362431 0.97362431 0.97362431 0.97362431 0.97362431\n",
      "  0.97362431 0.97362431 0.97362431 0.97362431 0.97362431 0.97362431\n",
      "  0.97362431 0.97362431 0.97362431 0.97362431 0.97362431 0.97362431\n",
      "  0.97362431 0.97362431 0.97362431 0.97362431 0.97362431 0.97362431\n",
      "  0.97362431 0.97362431 0.97362431 0.97362431 0.97362431 0.97362431\n",
      "  0.97362431 0.97362431 0.97362431 0.97362431 0.97362431 0.97362431\n",
      "  0.97362431 1.02709022 0.97362431 0.97362431 0.97362431 0.97362431\n",
      "  0.97362431 0.97362431 0.97362431 0.97362431 1.02709022 0.97362431\n",
      "  0.97362431 0.97362431 0.97362431 0.97362431 0.97362431 0.97362431\n",
      "  0.97362431 0.97362431 0.97362431 0.97362431 0.97362431 0.97362431\n",
      "  0.97362431 0.97362431 0.97362431 0.97362431 0.97362431 0.97362431\n",
      "  1.02709022 0.97362431 0.97362431 0.97362431 0.97362431 0.97362431\n",
      "  0.97362431 1.02709022 0.97362431 0.97362431 0.97362431 0.97362431\n",
      "  0.97362431 1.02709022 0.97362431 0.97362431 0.97362431 0.97362431\n",
      "  0.97362431 0.97362431 0.97362431 0.97362431 0.97362431 0.97362431\n",
      "  0.97362431 0.97362431 0.97362431 0.97362431 0.97362431 0.97362431\n",
      "  0.97362431 0.97362431 0.97362431]]\n",
      "Sum wCur: 1.0\n",
      "Delta share: 0.9523809523809523\n",
      "Eps:  0.49999999999999994\n",
      "Alpha: [[1. 1. 1. 1. 1. 1. 1. 1. 1. 1. 1. 1. 1. 1. 1. 1. 1. 1. 1. 1. 1. 1. 1. 1.\n",
      "  1. 1. 1. 1. 1. 1. 1. 1. 1. 1. 1. 1. 1. 1. 1. 1. 1. 1. 1. 1. 1. 1. 1. 1.\n",
      "  1. 1. 1. 1. 1. 1. 1. 1. 1. 1. 1. 1. 1. 1. 1. 1. 1. 1. 1. 1. 1. 1. 1. 1.\n",
      "  1. 1. 1. 1. 1. 1. 1. 1. 1. 1. 1. 1. 1. 1. 1. 1. 1. 1. 1. 1. 1. 1. 1. 1.\n",
      "  1. 1. 1. 1. 1. 1. 1. 1. 1.]]\n",
      "Sum wCur: 1.0\n",
      "Delta share: 0.9523809523809523\n",
      "Eps:  0.49999999999999994\n",
      "Alpha: [[1. 1. 1. 1. 1. 1. 1. 1. 1. 1. 1. 1. 1. 1. 1. 1. 1. 1. 1. 1. 1. 1. 1. 1.\n",
      "  1. 1. 1. 1. 1. 1. 1. 1. 1. 1. 1. 1. 1. 1. 1. 1. 1. 1. 1. 1. 1. 1. 1. 1.\n",
      "  1. 1. 1. 1. 1. 1. 1. 1. 1. 1. 1. 1. 1. 1. 1. 1. 1. 1. 1. 1. 1. 1. 1. 1.\n",
      "  1. 1. 1. 1. 1. 1. 1. 1. 1. 1. 1. 1. 1. 1. 1. 1. 1. 1. 1. 1. 1. 1. 1. 1.\n",
      "  1. 1. 1. 1. 1. 1. 1. 1. 1.]]\n",
      "Sum wCur: 1.0\n",
      "Delta share: 0.9523809523809523\n",
      "Eps:  0.49999999999999994\n",
      "Alpha: [[1. 1. 1. 1. 1. 1. 1. 1. 1. 1. 1. 1. 1. 1. 1. 1. 1. 1. 1. 1. 1. 1. 1. 1.\n",
      "  1. 1. 1. 1. 1. 1. 1. 1. 1. 1. 1. 1. 1. 1. 1. 1. 1. 1. 1. 1. 1. 1. 1. 1.\n",
      "  1. 1. 1. 1. 1. 1. 1. 1. 1. 1. 1. 1. 1. 1. 1. 1. 1. 1. 1. 1. 1. 1. 1. 1.\n",
      "  1. 1. 1. 1. 1. 1. 1. 1. 1. 1. 1. 1. 1. 1. 1. 1. 1. 1. 1. 1. 1. 1. 1. 1.\n",
      "  1. 1. 1. 1. 1. 1. 1. 1. 1.]]\n",
      "Sum wCur: 1.0\n",
      "Delta share: 0.9523809523809523\n",
      "Eps:  0.49999999999999994\n",
      "Alpha: [[1. 1. 1. 1. 1. 1. 1. 1. 1. 1. 1. 1. 1. 1. 1. 1. 1. 1. 1. 1. 1. 1. 1. 1.\n",
      "  1. 1. 1. 1. 1. 1. 1. 1. 1. 1. 1. 1. 1. 1. 1. 1. 1. 1. 1. 1. 1. 1. 1. 1.\n",
      "  1. 1. 1. 1. 1. 1. 1. 1. 1. 1. 1. 1. 1. 1. 1. 1. 1. 1. 1. 1. 1. 1. 1. 1.\n",
      "  1. 1. 1. 1. 1. 1. 1. 1. 1. 1. 1. 1. 1. 1. 1. 1. 1. 1. 1. 1. 1. 1. 1. 1.\n",
      "  1. 1. 1. 1. 1. 1. 1. 1. 1.]]\n",
      "Sum wCur: 1.0\n"
     ]
    },
    {
     "ename": "TypeError",
     "evalue": "'list' object cannot be interpreted as an integer",
     "output_type": "error",
     "traceback": [
      "\u001b[1;31m---------------------------------------------------------------------------\u001b[0m",
      "\u001b[1;31mTypeError\u001b[0m                                 Traceback (most recent call last)",
      "\u001b[1;32m<ipython-input-158-7270a2eb66a6>\u001b[0m in \u001b[0;36m<module>\u001b[1;34m\u001b[0m\n\u001b[1;32m----> 1\u001b[1;33m \u001b[0mtestClassifier\u001b[0m\u001b[1;33m(\u001b[0m\u001b[0mBoostClassifier\u001b[0m\u001b[1;33m(\u001b[0m\u001b[0mBayesClassifier\u001b[0m\u001b[1;33m(\u001b[0m\u001b[1;33m)\u001b[0m\u001b[1;33m,\u001b[0m \u001b[0mT\u001b[0m\u001b[1;33m=\u001b[0m\u001b[1;36m10\u001b[0m\u001b[1;33m)\u001b[0m\u001b[1;33m,\u001b[0m \u001b[0mdataset\u001b[0m\u001b[1;33m=\u001b[0m\u001b[1;34m'iris'\u001b[0m\u001b[1;33m,\u001b[0m\u001b[0msplit\u001b[0m\u001b[1;33m=\u001b[0m\u001b[1;36m0.7\u001b[0m\u001b[1;33m)\u001b[0m\u001b[1;33m\u001b[0m\u001b[1;33m\u001b[0m\u001b[0m\n\u001b[0m",
      "\u001b[1;32m~\\Desktop\\Lab_3\\labfuns.py\u001b[0m in \u001b[0;36mtestClassifier\u001b[1;34m(classifier, dataset, dim, split, ntrials)\u001b[0m\n\u001b[0;32m    197\u001b[0m         \u001b[0mtrained_classifier\u001b[0m \u001b[1;33m=\u001b[0m \u001b[0mclassifier\u001b[0m\u001b[1;33m.\u001b[0m\u001b[0mtrainClassifier\u001b[0m\u001b[1;33m(\u001b[0m\u001b[0mxTr\u001b[0m\u001b[1;33m,\u001b[0m \u001b[0myTr\u001b[0m\u001b[1;33m)\u001b[0m\u001b[1;33m\u001b[0m\u001b[1;33m\u001b[0m\u001b[0m\n\u001b[0;32m    198\u001b[0m         \u001b[1;31m# Predict\u001b[0m\u001b[1;33m\u001b[0m\u001b[1;33m\u001b[0m\u001b[1;33m\u001b[0m\u001b[0m\n\u001b[1;32m--> 199\u001b[1;33m         \u001b[0myPr\u001b[0m \u001b[1;33m=\u001b[0m \u001b[0mtrained_classifier\u001b[0m\u001b[1;33m.\u001b[0m\u001b[0mclassify\u001b[0m\u001b[1;33m(\u001b[0m\u001b[0mxTe\u001b[0m\u001b[1;33m)\u001b[0m\u001b[1;33m\u001b[0m\u001b[1;33m\u001b[0m\u001b[0m\n\u001b[0m\u001b[0;32m    200\u001b[0m \u001b[1;33m\u001b[0m\u001b[0m\n\u001b[0;32m    201\u001b[0m         \u001b[1;31m# Compute classification error\u001b[0m\u001b[1;33m\u001b[0m\u001b[1;33m\u001b[0m\u001b[1;33m\u001b[0m\u001b[0m\n",
      "\u001b[1;32m<ipython-input-11-3b5bc17c3420>\u001b[0m in \u001b[0;36mclassify\u001b[1;34m(self, X)\u001b[0m\n\u001b[0;32m     14\u001b[0m \u001b[1;33m\u001b[0m\u001b[0m\n\u001b[0;32m     15\u001b[0m     \u001b[1;32mdef\u001b[0m \u001b[0mclassify\u001b[0m\u001b[1;33m(\u001b[0m\u001b[0mself\u001b[0m\u001b[1;33m,\u001b[0m \u001b[0mX\u001b[0m\u001b[1;33m)\u001b[0m\u001b[1;33m:\u001b[0m\u001b[1;33m\u001b[0m\u001b[1;33m\u001b[0m\u001b[0m\n\u001b[1;32m---> 16\u001b[1;33m         \u001b[1;32mreturn\u001b[0m \u001b[0mclassifyBoost\u001b[0m\u001b[1;33m(\u001b[0m\u001b[0mX\u001b[0m\u001b[1;33m,\u001b[0m \u001b[0mself\u001b[0m\u001b[1;33m.\u001b[0m\u001b[0mclassifiers\u001b[0m\u001b[1;33m,\u001b[0m \u001b[0mself\u001b[0m\u001b[1;33m.\u001b[0m\u001b[0malphas\u001b[0m\u001b[1;33m,\u001b[0m \u001b[0mself\u001b[0m\u001b[1;33m.\u001b[0m\u001b[0mnbr_classes\u001b[0m\u001b[1;33m)\u001b[0m\u001b[1;33m\u001b[0m\u001b[1;33m\u001b[0m\u001b[0m\n\u001b[0m",
      "\u001b[1;32m<ipython-input-157-f30f0bce983c>\u001b[0m in \u001b[0;36mclassifyBoost\u001b[1;34m(X, classifiers, alphas, Nclasses)\u001b[0m\n\u001b[0;32m     67\u001b[0m         \u001b[1;31m# here we can do it by filling in the votes vector with weighted votes\u001b[0m\u001b[1;33m\u001b[0m\u001b[1;33m\u001b[0m\u001b[1;33m\u001b[0m\u001b[0m\n\u001b[0;32m     68\u001b[0m         \u001b[1;31m# ==========================\u001b[0m\u001b[1;33m\u001b[0m\u001b[1;33m\u001b[0m\u001b[1;33m\u001b[0m\u001b[0m\n\u001b[1;32m---> 69\u001b[1;33m         \u001b[1;32mfor\u001b[0m \u001b[0mi\u001b[0m \u001b[1;32min\u001b[0m \u001b[0mrange\u001b[0m\u001b[1;33m(\u001b[0m\u001b[0mclassifiers\u001b[0m\u001b[1;33m)\u001b[0m\u001b[1;33m:\u001b[0m\u001b[1;33m\u001b[0m\u001b[1;33m\u001b[0m\u001b[0m\n\u001b[0m\u001b[0;32m     70\u001b[0m             \u001b[0mvote\u001b[0m \u001b[1;33m=\u001b[0m \u001b[0mclassifiers\u001b[0m\u001b[1;33m[\u001b[0m\u001b[0mi\u001b[0m\u001b[1;33m]\u001b[0m\u001b[1;33m.\u001b[0m\u001b[0mclassify\u001b[0m\u001b[1;33m(\u001b[0m\u001b[0mX\u001b[0m\u001b[1;33m)\u001b[0m\u001b[1;33m\u001b[0m\u001b[1;33m\u001b[0m\u001b[0m\n\u001b[0;32m     71\u001b[0m \u001b[1;33m\u001b[0m\u001b[0m\n",
      "\u001b[1;31mTypeError\u001b[0m: 'list' object cannot be interpreted as an integer"
     ]
    }
   ],
   "source": [
    "testClassifier(BoostClassifier(BayesClassifier(), T=10), dataset='iris',split=0.7)"
   ]
  },
  {
   "cell_type": "code",
   "execution_count": null,
   "metadata": {},
   "outputs": [],
   "source": [
    "testClassifier(BoostClassifier(BayesClassifier(), T=10), dataset='vowel',split=0.7)"
   ]
  },
  {
   "cell_type": "code",
   "execution_count": null,
   "metadata": {},
   "outputs": [],
   "source": [
    "%matplotlib inline\n",
    "plotBoundary(BoostClassifier(BayesClassifier()), dataset='iris',split=0.7)"
   ]
  },
  {
   "cell_type": "markdown",
   "metadata": {},
   "source": [
    "Now repeat the steps with a decision tree classifier."
   ]
  },
  {
   "cell_type": "code",
   "execution_count": null,
   "metadata": {},
   "outputs": [],
   "source": [
    "testClassifier(DecisionTreeClassifier(), dataset='iris', split=0.7)"
   ]
  },
  {
   "cell_type": "code",
   "execution_count": null,
   "metadata": {},
   "outputs": [],
   "source": [
    "testClassifier(BoostClassifier(DecisionTreeClassifier(), T=10), dataset='iris',split=0.7)"
   ]
  },
  {
   "cell_type": "code",
   "execution_count": null,
   "metadata": {},
   "outputs": [],
   "source": [
    "testClassifier(DecisionTreeClassifier(), dataset='vowel',split=0.7)"
   ]
  },
  {
   "cell_type": "code",
   "execution_count": null,
   "metadata": {},
   "outputs": [],
   "source": [
    "testClassifier(BoostClassifier(DecisionTreeClassifier(), T=10), dataset='vowel',split=0.7)"
   ]
  },
  {
   "cell_type": "code",
   "execution_count": null,
   "metadata": {},
   "outputs": [],
   "source": [
    "%matplotlib inline\n",
    "plotBoundary(DecisionTreeClassifier(), dataset='iris',split=0.7)"
   ]
  },
  {
   "cell_type": "code",
   "execution_count": null,
   "metadata": {},
   "outputs": [],
   "source": [
    "%matplotlib inline\n",
    "plotBoundary(BoostClassifier(DecisionTreeClassifier(), T=10), dataset='iris',split=0.7)"
   ]
  },
  {
   "cell_type": "markdown",
   "metadata": {},
   "source": [
    "## Bonus: Visualize faces classified using boosted decision trees\n",
    "\n",
    "Note that this part of the assignment is completely voluntary! First, let's check how a boosted decision tree classifier performs on the olivetti data. Note that we need to reduce the dimension a bit using PCA, as the original dimension of the image vectors is `64 x 64 = 4096` elements."
   ]
  },
  {
   "cell_type": "code",
   "execution_count": null,
   "metadata": {},
   "outputs": [],
   "source": [
    "testClassifier(BayesClassifier(), dataset='olivetti',split=0.7, dim=20)"
   ]
  },
  {
   "cell_type": "code",
   "execution_count": null,
   "metadata": {},
   "outputs": [],
   "source": [
    "testClassifier(BoostClassifier(DecisionTreeClassifier(), T=10), dataset='olivetti',split=0.7, dim=20)"
   ]
  },
  {
   "cell_type": "markdown",
   "metadata": {},
   "source": [
    "You should get an accuracy around 70%. If you wish, you can compare this with using pure decision trees or a boosted bayes classifier. Not too bad, now let's try and classify a face as belonging to one of 40 persons!"
   ]
  },
  {
   "cell_type": "code",
   "execution_count": null,
   "metadata": {},
   "outputs": [],
   "source": [
    "%matplotlib inline\n",
    "X,y,pcadim = fetchDataset('olivetti') # fetch the olivetti data\n",
    "xTr,yTr,xTe,yTe,trIdx,teIdx = trteSplitEven(X,y,0.7) # split into training and testing\n",
    "pca = decomposition.PCA(n_components=20) # use PCA to reduce the dimension to 20\n",
    "pca.fit(xTr) # use training data to fit the transform\n",
    "xTrpca = pca.transform(xTr) # apply on training data\n",
    "xTepca = pca.transform(xTe) # apply on test data\n",
    "# use our pre-defined decision tree classifier together with the implemented\n",
    "# boosting to classify data points in the training data\n",
    "classifier = BoostClassifier(DecisionTreeClassifier(), T=10).trainClassifier(xTrpca, yTr)\n",
    "yPr = classifier.classify(xTepca)\n",
    "# choose a test point to visualize\n",
    "testind = random.randint(0, xTe.shape[0]-1)\n",
    "# visualize the test point together with the training points used to train\n",
    "# the class that the test point was classified to belong to\n",
    "visualizeOlivettiVectors(xTr[yTr == yPr[testind],:], xTe[testind,:])"
   ]
  }
 ],
 "metadata": {
  "kernelspec": {
   "display_name": "Python 3",
   "language": "python",
   "name": "python3"
  },
  "language_info": {
   "codemirror_mode": {
    "name": "ipython",
    "version": 3
   },
   "file_extension": ".py",
   "mimetype": "text/x-python",
   "name": "python",
   "nbconvert_exporter": "python",
   "pygments_lexer": "ipython3",
   "version": "3.7.1"
  }
 },
 "nbformat": 4,
 "nbformat_minor": 1
}
